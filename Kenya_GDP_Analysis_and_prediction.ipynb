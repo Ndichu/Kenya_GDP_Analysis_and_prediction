{
 "cells": [
  {
   "cell_type": "markdown",
   "id": "fe106ed7",
   "metadata": {},
   "source": [
    "Importing the required Library"
   ]
  },
  {
   "cell_type": "code",
   "execution_count": 20,
   "id": "561b908b",
   "metadata": {},
   "outputs": [],
   "source": [
    "import pandas as pd\n",
    "import seaborn as sns\n",
    "import matplotlib.pyplot as plt\n",
    "from sklearn.linear_model import LinearRegression\n",
    "from sklearn.model_selection import train_test_split"
   ]
  },
  {
   "cell_type": "markdown",
   "id": "01a2402d",
   "metadata": {},
   "source": [
    "# Importing and Reading the data"
   ]
  },
  {
   "cell_type": "markdown",
   "id": "aecb2117",
   "metadata": {},
   "source": [
    "Import dataset: gdp_1960_2020.csv file"
   ]
  },
  {
   "cell_type": "code",
   "execution_count": 21,
   "id": "0e9d5e95",
   "metadata": {},
   "outputs": [],
   "source": [
    "df = pd.read_csv('gdp_1960_2020.csv')"
   ]
  },
  {
   "cell_type": "markdown",
   "id": "21b69ee8",
   "metadata": {},
   "source": [
    "Lets take a look at the data set"
   ]
  },
  {
   "cell_type": "code",
   "execution_count": 22,
   "id": "1b1a25a9",
   "metadata": {
    "scrolled": false
   },
   "outputs": [
    {
     "data": {
      "text/html": [
       "<div>\n",
       "<style scoped>\n",
       "    .dataframe tbody tr th:only-of-type {\n",
       "        vertical-align: middle;\n",
       "    }\n",
       "\n",
       "    .dataframe tbody tr th {\n",
       "        vertical-align: top;\n",
       "    }\n",
       "\n",
       "    .dataframe thead th {\n",
       "        text-align: right;\n",
       "    }\n",
       "</style>\n",
       "<table border=\"1\" class=\"dataframe\">\n",
       "  <thead>\n",
       "    <tr style=\"text-align: right;\">\n",
       "      <th></th>\n",
       "      <th>year</th>\n",
       "      <th>rank</th>\n",
       "      <th>country</th>\n",
       "      <th>state</th>\n",
       "      <th>gdp</th>\n",
       "      <th>gdp_percent</th>\n",
       "    </tr>\n",
       "  </thead>\n",
       "  <tbody>\n",
       "    <tr>\n",
       "      <th>0</th>\n",
       "      <td>1960</td>\n",
       "      <td>1</td>\n",
       "      <td>the United States</td>\n",
       "      <td>America</td>\n",
       "      <td>543300000000</td>\n",
       "      <td>0.468483</td>\n",
       "    </tr>\n",
       "    <tr>\n",
       "      <th>1</th>\n",
       "      <td>1960</td>\n",
       "      <td>2</td>\n",
       "      <td>United Kingdom</td>\n",
       "      <td>Europe</td>\n",
       "      <td>73233967692</td>\n",
       "      <td>0.063149</td>\n",
       "    </tr>\n",
       "    <tr>\n",
       "      <th>2</th>\n",
       "      <td>1960</td>\n",
       "      <td>3</td>\n",
       "      <td>France</td>\n",
       "      <td>Europe</td>\n",
       "      <td>62225478000</td>\n",
       "      <td>0.053656</td>\n",
       "    </tr>\n",
       "    <tr>\n",
       "      <th>3</th>\n",
       "      <td>1960</td>\n",
       "      <td>4</td>\n",
       "      <td>China</td>\n",
       "      <td>Asia</td>\n",
       "      <td>59716467625</td>\n",
       "      <td>0.051493</td>\n",
       "    </tr>\n",
       "    <tr>\n",
       "      <th>4</th>\n",
       "      <td>1960</td>\n",
       "      <td>5</td>\n",
       "      <td>Japan</td>\n",
       "      <td>Asia</td>\n",
       "      <td>44307342950</td>\n",
       "      <td>0.038206</td>\n",
       "    </tr>\n",
       "  </tbody>\n",
       "</table>\n",
       "</div>"
      ],
      "text/plain": [
       "   year  rank            country    state           gdp  gdp_percent\n",
       "0  1960     1  the United States  America  543300000000     0.468483\n",
       "1  1960     2     United Kingdom   Europe   73233967692     0.063149\n",
       "2  1960     3             France   Europe   62225478000     0.053656\n",
       "3  1960     4              China     Asia   59716467625     0.051493\n",
       "4  1960     5              Japan     Asia   44307342950     0.038206"
      ]
     },
     "execution_count": 22,
     "metadata": {},
     "output_type": "execute_result"
    }
   ],
   "source": [
    "df.head()"
   ]
  },
  {
   "cell_type": "markdown",
   "id": "989375f9",
   "metadata": {},
   "source": [
    "# Data Exploration"
   ]
  },
  {
   "cell_type": "markdown",
   "id": "21354837",
   "metadata": {},
   "source": [
    "Let's first have a descriptive exploration on our data."
   ]
  },
  {
   "cell_type": "code",
   "execution_count": 23,
   "id": "02771d84",
   "metadata": {
    "scrolled": true
   },
   "outputs": [
    {
     "data": {
      "text/html": [
       "<div>\n",
       "<style scoped>\n",
       "    .dataframe tbody tr th:only-of-type {\n",
       "        vertical-align: middle;\n",
       "    }\n",
       "\n",
       "    .dataframe tbody tr th {\n",
       "        vertical-align: top;\n",
       "    }\n",
       "\n",
       "    .dataframe thead th {\n",
       "        text-align: right;\n",
       "    }\n",
       "</style>\n",
       "<table border=\"1\" class=\"dataframe\">\n",
       "  <thead>\n",
       "    <tr style=\"text-align: right;\">\n",
       "      <th></th>\n",
       "      <th>year</th>\n",
       "      <th>rank</th>\n",
       "      <th>gdp</th>\n",
       "      <th>gdp_percent</th>\n",
       "    </tr>\n",
       "  </thead>\n",
       "  <tbody>\n",
       "    <tr>\n",
       "      <th>count</th>\n",
       "      <td>10134.000000</td>\n",
       "      <td>10134.000000</td>\n",
       "      <td>1.013400e+04</td>\n",
       "      <td>1.013400e+04</td>\n",
       "    </tr>\n",
       "    <tr>\n",
       "      <th>mean</th>\n",
       "      <td>1993.579238</td>\n",
       "      <td>87.353069</td>\n",
       "      <td>1.773584e+11</td>\n",
       "      <td>6.019341e-03</td>\n",
       "    </tr>\n",
       "    <tr>\n",
       "      <th>std</th>\n",
       "      <td>16.841720</td>\n",
       "      <td>53.688994</td>\n",
       "      <td>9.522888e+11</td>\n",
       "      <td>2.748022e-02</td>\n",
       "    </tr>\n",
       "    <tr>\n",
       "      <th>min</th>\n",
       "      <td>1960.000000</td>\n",
       "      <td>1.000000</td>\n",
       "      <td>8.824447e+06</td>\n",
       "      <td>3.550683e-07</td>\n",
       "    </tr>\n",
       "    <tr>\n",
       "      <th>25%</th>\n",
       "      <td>1980.000000</td>\n",
       "      <td>42.000000</td>\n",
       "      <td>1.380725e+09</td>\n",
       "      <td>8.875239e-05</td>\n",
       "    </tr>\n",
       "    <tr>\n",
       "      <th>50%</th>\n",
       "      <td>1995.000000</td>\n",
       "      <td>84.000000</td>\n",
       "      <td>7.559957e+09</td>\n",
       "      <td>3.650213e-04</td>\n",
       "    </tr>\n",
       "    <tr>\n",
       "      <th>75%</th>\n",
       "      <td>2008.000000</td>\n",
       "      <td>128.000000</td>\n",
       "      <td>4.995662e+10</td>\n",
       "      <td>2.499742e-03</td>\n",
       "    </tr>\n",
       "    <tr>\n",
       "      <th>max</th>\n",
       "      <td>2020.000000</td>\n",
       "      <td>206.000000</td>\n",
       "      <td>2.143322e+13</td>\n",
       "      <td>4.684827e-01</td>\n",
       "    </tr>\n",
       "  </tbody>\n",
       "</table>\n",
       "</div>"
      ],
      "text/plain": [
       "               year          rank           gdp   gdp_percent\n",
       "count  10134.000000  10134.000000  1.013400e+04  1.013400e+04\n",
       "mean    1993.579238     87.353069  1.773584e+11  6.019341e-03\n",
       "std       16.841720     53.688994  9.522888e+11  2.748022e-02\n",
       "min     1960.000000      1.000000  8.824447e+06  3.550683e-07\n",
       "25%     1980.000000     42.000000  1.380725e+09  8.875239e-05\n",
       "50%     1995.000000     84.000000  7.559957e+09  3.650213e-04\n",
       "75%     2008.000000    128.000000  4.995662e+10  2.499742e-03\n",
       "max     2020.000000    206.000000  2.143322e+13  4.684827e-01"
      ]
     },
     "execution_count": 23,
     "metadata": {},
     "output_type": "execute_result"
    }
   ],
   "source": [
    "# summarize the data\n",
    "df.describe()"
   ]
  },
  {
   "cell_type": "markdown",
   "id": "fac8130f",
   "metadata": {},
   "source": [
    "Narrow down to only show data of the Country Kenya and we will refer that to as Kenya_gdp_data"
   ]
  },
  {
   "cell_type": "code",
   "execution_count": 24,
   "id": "dab8e261",
   "metadata": {},
   "outputs": [],
   "source": [
    "Kenya_gdp_data=df[df['country']=='Kenya']"
   ]
  },
  {
   "cell_type": "markdown",
   "id": "0a864d94",
   "metadata": {},
   "source": [
    "Columns view of dataset to know what columns are nessesary for this analysis and remove the rest in the next step"
   ]
  },
  {
   "cell_type": "code",
   "execution_count": 25,
   "id": "eeb25e6c",
   "metadata": {},
   "outputs": [
    {
     "data": {
      "text/plain": [
       "Index(['year', 'rank', 'country', 'state', 'gdp', 'gdp_percent'], dtype='object')"
      ]
     },
     "execution_count": 25,
     "metadata": {},
     "output_type": "execute_result"
    }
   ],
   "source": [
    "df.columns"
   ]
  },
  {
   "cell_type": "code",
   "execution_count": 26,
   "id": "fda32429",
   "metadata": {},
   "outputs": [
    {
     "data": {
      "text/html": [
       "<div>\n",
       "<style scoped>\n",
       "    .dataframe tbody tr th:only-of-type {\n",
       "        vertical-align: middle;\n",
       "    }\n",
       "\n",
       "    .dataframe tbody tr th {\n",
       "        vertical-align: top;\n",
       "    }\n",
       "\n",
       "    .dataframe thead th {\n",
       "        text-align: right;\n",
       "    }\n",
       "</style>\n",
       "<table border=\"1\" class=\"dataframe\">\n",
       "  <thead>\n",
       "    <tr style=\"text-align: right;\">\n",
       "      <th></th>\n",
       "      <th>year</th>\n",
       "      <th>rank</th>\n",
       "      <th>country</th>\n",
       "      <th>state</th>\n",
       "      <th>gdp</th>\n",
       "      <th>gdp_percent</th>\n",
       "    </tr>\n",
       "  </thead>\n",
       "  <tbody>\n",
       "    <tr>\n",
       "      <th>54</th>\n",
       "      <td>1960</td>\n",
       "      <td>55</td>\n",
       "      <td>Kenya</td>\n",
       "      <td>Africa</td>\n",
       "      <td>791265458</td>\n",
       "      <td>0.000682</td>\n",
       "    </tr>\n",
       "    <tr>\n",
       "      <th>157</th>\n",
       "      <td>1961</td>\n",
       "      <td>55</td>\n",
       "      <td>Kenya</td>\n",
       "      <td>Africa</td>\n",
       "      <td>792959472</td>\n",
       "      <td>0.000657</td>\n",
       "    </tr>\n",
       "    <tr>\n",
       "      <th>260</th>\n",
       "      <td>1962</td>\n",
       "      <td>55</td>\n",
       "      <td>Kenya</td>\n",
       "      <td>Africa</td>\n",
       "      <td>868111400</td>\n",
       "      <td>0.000657</td>\n",
       "    </tr>\n",
       "    <tr>\n",
       "      <th>366</th>\n",
       "      <td>1963</td>\n",
       "      <td>56</td>\n",
       "      <td>Kenya</td>\n",
       "      <td>Africa</td>\n",
       "      <td>926589348</td>\n",
       "      <td>0.000652</td>\n",
       "    </tr>\n",
       "    <tr>\n",
       "      <th>471</th>\n",
       "      <td>1964</td>\n",
       "      <td>56</td>\n",
       "      <td>Kenya</td>\n",
       "      <td>Africa</td>\n",
       "      <td>998759333</td>\n",
       "      <td>0.000641</td>\n",
       "    </tr>\n",
       "    <tr>\n",
       "      <th>...</th>\n",
       "      <td>...</td>\n",
       "      <td>...</td>\n",
       "      <td>...</td>\n",
       "      <td>...</td>\n",
       "      <td>...</td>\n",
       "      <td>...</td>\n",
       "    </tr>\n",
       "    <tr>\n",
       "      <th>9216</th>\n",
       "      <td>2016</td>\n",
       "      <td>70</td>\n",
       "      <td>Kenya</td>\n",
       "      <td>Africa</td>\n",
       "      <td>69188755364</td>\n",
       "      <td>0.000919</td>\n",
       "    </tr>\n",
       "    <tr>\n",
       "      <th>9420</th>\n",
       "      <td>2017</td>\n",
       "      <td>69</td>\n",
       "      <td>Kenya</td>\n",
       "      <td>Africa</td>\n",
       "      <td>78965004656</td>\n",
       "      <td>0.000985</td>\n",
       "    </tr>\n",
       "    <tr>\n",
       "      <th>9621</th>\n",
       "      <td>2018</td>\n",
       "      <td>66</td>\n",
       "      <td>Kenya</td>\n",
       "      <td>Africa</td>\n",
       "      <td>87778582964</td>\n",
       "      <td>0.001030</td>\n",
       "    </tr>\n",
       "    <tr>\n",
       "      <th>9824</th>\n",
       "      <td>2019</td>\n",
       "      <td>65</td>\n",
       "      <td>Kenya</td>\n",
       "      <td>Africa</td>\n",
       "      <td>95503088538</td>\n",
       "      <td>0.001107</td>\n",
       "    </tr>\n",
       "    <tr>\n",
       "      <th>10018</th>\n",
       "      <td>2020</td>\n",
       "      <td>60</td>\n",
       "      <td>Kenya</td>\n",
       "      <td>Africa</td>\n",
       "      <td>98842939649</td>\n",
       "      <td>0.001275</td>\n",
       "    </tr>\n",
       "  </tbody>\n",
       "</table>\n",
       "<p>61 rows × 6 columns</p>\n",
       "</div>"
      ],
      "text/plain": [
       "       year  rank country   state          gdp  gdp_percent\n",
       "54     1960    55   Kenya  Africa    791265458     0.000682\n",
       "157    1961    55   Kenya  Africa    792959472     0.000657\n",
       "260    1962    55   Kenya  Africa    868111400     0.000657\n",
       "366    1963    56   Kenya  Africa    926589348     0.000652\n",
       "471    1964    56   Kenya  Africa    998759333     0.000641\n",
       "...     ...   ...     ...     ...          ...          ...\n",
       "9216   2016    70   Kenya  Africa  69188755364     0.000919\n",
       "9420   2017    69   Kenya  Africa  78965004656     0.000985\n",
       "9621   2018    66   Kenya  Africa  87778582964     0.001030\n",
       "9824   2019    65   Kenya  Africa  95503088538     0.001107\n",
       "10018  2020    60   Kenya  Africa  98842939649     0.001275\n",
       "\n",
       "[61 rows x 6 columns]"
      ]
     },
     "execution_count": 26,
     "metadata": {},
     "output_type": "execute_result"
    }
   ],
   "source": [
    "Kenya_gdp_data"
   ]
  },
  {
   "cell_type": "code",
   "execution_count": 27,
   "id": "7a5133cc",
   "metadata": {},
   "outputs": [
    {
     "name": "stderr",
     "output_type": "stream",
     "text": [
      "C:\\Users\\georg\\AppData\\Local\\Temp\\ipykernel_5060\\2408759043.py:1: SettingWithCopyWarning: \n",
      "A value is trying to be set on a copy of a slice from a DataFrame\n",
      "\n",
      "See the caveats in the documentation: https://pandas.pydata.org/pandas-docs/stable/user_guide/indexing.html#returning-a-view-versus-a-copy\n",
      "  Kenya_gdp_data.drop(['rank','state','gdp_percent'], axis = 1, inplace = True)\n"
     ]
    }
   ],
   "source": [
    "Kenya_gdp_data.drop(['rank','state','gdp_percent'], axis = 1, inplace = True)"
   ]
  },
  {
   "cell_type": "code",
   "execution_count": 28,
   "id": "1b50adbc",
   "metadata": {},
   "outputs": [
    {
     "data": {
      "text/html": [
       "<div>\n",
       "<style scoped>\n",
       "    .dataframe tbody tr th:only-of-type {\n",
       "        vertical-align: middle;\n",
       "    }\n",
       "\n",
       "    .dataframe tbody tr th {\n",
       "        vertical-align: top;\n",
       "    }\n",
       "\n",
       "    .dataframe thead th {\n",
       "        text-align: right;\n",
       "    }\n",
       "</style>\n",
       "<table border=\"1\" class=\"dataframe\">\n",
       "  <thead>\n",
       "    <tr style=\"text-align: right;\">\n",
       "      <th></th>\n",
       "      <th>year</th>\n",
       "      <th>country</th>\n",
       "      <th>gdp</th>\n",
       "    </tr>\n",
       "  </thead>\n",
       "  <tbody>\n",
       "    <tr>\n",
       "      <th>54</th>\n",
       "      <td>1960</td>\n",
       "      <td>Kenya</td>\n",
       "      <td>791265458</td>\n",
       "    </tr>\n",
       "    <tr>\n",
       "      <th>157</th>\n",
       "      <td>1961</td>\n",
       "      <td>Kenya</td>\n",
       "      <td>792959472</td>\n",
       "    </tr>\n",
       "    <tr>\n",
       "      <th>260</th>\n",
       "      <td>1962</td>\n",
       "      <td>Kenya</td>\n",
       "      <td>868111400</td>\n",
       "    </tr>\n",
       "    <tr>\n",
       "      <th>366</th>\n",
       "      <td>1963</td>\n",
       "      <td>Kenya</td>\n",
       "      <td>926589348</td>\n",
       "    </tr>\n",
       "    <tr>\n",
       "      <th>471</th>\n",
       "      <td>1964</td>\n",
       "      <td>Kenya</td>\n",
       "      <td>998759333</td>\n",
       "    </tr>\n",
       "    <tr>\n",
       "      <th>...</th>\n",
       "      <td>...</td>\n",
       "      <td>...</td>\n",
       "      <td>...</td>\n",
       "    </tr>\n",
       "    <tr>\n",
       "      <th>9216</th>\n",
       "      <td>2016</td>\n",
       "      <td>Kenya</td>\n",
       "      <td>69188755364</td>\n",
       "    </tr>\n",
       "    <tr>\n",
       "      <th>9420</th>\n",
       "      <td>2017</td>\n",
       "      <td>Kenya</td>\n",
       "      <td>78965004656</td>\n",
       "    </tr>\n",
       "    <tr>\n",
       "      <th>9621</th>\n",
       "      <td>2018</td>\n",
       "      <td>Kenya</td>\n",
       "      <td>87778582964</td>\n",
       "    </tr>\n",
       "    <tr>\n",
       "      <th>9824</th>\n",
       "      <td>2019</td>\n",
       "      <td>Kenya</td>\n",
       "      <td>95503088538</td>\n",
       "    </tr>\n",
       "    <tr>\n",
       "      <th>10018</th>\n",
       "      <td>2020</td>\n",
       "      <td>Kenya</td>\n",
       "      <td>98842939649</td>\n",
       "    </tr>\n",
       "  </tbody>\n",
       "</table>\n",
       "<p>61 rows × 3 columns</p>\n",
       "</div>"
      ],
      "text/plain": [
       "       year country          gdp\n",
       "54     1960   Kenya    791265458\n",
       "157    1961   Kenya    792959472\n",
       "260    1962   Kenya    868111400\n",
       "366    1963   Kenya    926589348\n",
       "471    1964   Kenya    998759333\n",
       "...     ...     ...          ...\n",
       "9216   2016   Kenya  69188755364\n",
       "9420   2017   Kenya  78965004656\n",
       "9621   2018   Kenya  87778582964\n",
       "9824   2019   Kenya  95503088538\n",
       "10018  2020   Kenya  98842939649\n",
       "\n",
       "[61 rows x 3 columns]"
      ]
     },
     "execution_count": 28,
     "metadata": {},
     "output_type": "execute_result"
    }
   ],
   "source": [
    "Kenya_gdp_data"
   ]
  },
  {
   "cell_type": "markdown",
   "id": "983d4ad6",
   "metadata": {},
   "source": [
    "## Let's select some features to explore more."
   ]
  },
  {
   "cell_type": "code",
   "execution_count": 29,
   "id": "8e1638b1",
   "metadata": {},
   "outputs": [
    {
     "data": {
      "text/html": [
       "<div>\n",
       "<style scoped>\n",
       "    .dataframe tbody tr th:only-of-type {\n",
       "        vertical-align: middle;\n",
       "    }\n",
       "\n",
       "    .dataframe tbody tr th {\n",
       "        vertical-align: top;\n",
       "    }\n",
       "\n",
       "    .dataframe thead th {\n",
       "        text-align: right;\n",
       "    }\n",
       "</style>\n",
       "<table border=\"1\" class=\"dataframe\">\n",
       "  <thead>\n",
       "    <tr style=\"text-align: right;\">\n",
       "      <th></th>\n",
       "      <th>year</th>\n",
       "      <th>gdp</th>\n",
       "    </tr>\n",
       "  </thead>\n",
       "  <tbody>\n",
       "    <tr>\n",
       "      <th>54</th>\n",
       "      <td>1960</td>\n",
       "      <td>791265458</td>\n",
       "    </tr>\n",
       "    <tr>\n",
       "      <th>157</th>\n",
       "      <td>1961</td>\n",
       "      <td>792959472</td>\n",
       "    </tr>\n",
       "    <tr>\n",
       "      <th>260</th>\n",
       "      <td>1962</td>\n",
       "      <td>868111400</td>\n",
       "    </tr>\n",
       "    <tr>\n",
       "      <th>366</th>\n",
       "      <td>1963</td>\n",
       "      <td>926589348</td>\n",
       "    </tr>\n",
       "    <tr>\n",
       "      <th>471</th>\n",
       "      <td>1964</td>\n",
       "      <td>998759333</td>\n",
       "    </tr>\n",
       "  </tbody>\n",
       "</table>\n",
       "</div>"
      ],
      "text/plain": [
       "     year        gdp\n",
       "54   1960  791265458\n",
       "157  1961  792959472\n",
       "260  1962  868111400\n",
       "366  1963  926589348\n",
       "471  1964  998759333"
      ]
     },
     "execution_count": 29,
     "metadata": {},
     "output_type": "execute_result"
    }
   ],
   "source": [
    "cdf = Kenya_gdp_data[['year','gdp']]\n",
    "cdf.head()"
   ]
  },
  {
   "cell_type": "markdown",
   "id": "bafbd265",
   "metadata": {},
   "source": [
    "# Data Exploration"
   ]
  },
  {
   "cell_type": "markdown",
   "id": "d9ac9c8e",
   "metadata": {},
   "source": [
    "Let's first have a descriptive exploration on our data."
   ]
  },
  {
   "cell_type": "code",
   "execution_count": 30,
   "id": "5818bd8e",
   "metadata": {},
   "outputs": [
    {
     "data": {
      "text/html": [
       "<div>\n",
       "<style scoped>\n",
       "    .dataframe tbody tr th:only-of-type {\n",
       "        vertical-align: middle;\n",
       "    }\n",
       "\n",
       "    .dataframe tbody tr th {\n",
       "        vertical-align: top;\n",
       "    }\n",
       "\n",
       "    .dataframe thead th {\n",
       "        text-align: right;\n",
       "    }\n",
       "</style>\n",
       "<table border=\"1\" class=\"dataframe\">\n",
       "  <thead>\n",
       "    <tr style=\"text-align: right;\">\n",
       "      <th></th>\n",
       "      <th>year</th>\n",
       "      <th>gdp</th>\n",
       "    </tr>\n",
       "  </thead>\n",
       "  <tbody>\n",
       "    <tr>\n",
       "      <th>count</th>\n",
       "      <td>61.000000</td>\n",
       "      <td>6.100000e+01</td>\n",
       "    </tr>\n",
       "    <tr>\n",
       "      <th>mean</th>\n",
       "      <td>1990.000000</td>\n",
       "      <td>1.928737e+10</td>\n",
       "    </tr>\n",
       "    <tr>\n",
       "      <th>std</th>\n",
       "      <td>17.752934</td>\n",
       "      <td>2.553702e+10</td>\n",
       "    </tr>\n",
       "    <tr>\n",
       "      <th>min</th>\n",
       "      <td>1960.000000</td>\n",
       "      <td>7.912655e+08</td>\n",
       "    </tr>\n",
       "    <tr>\n",
       "      <th>25%</th>\n",
       "      <td>1975.000000</td>\n",
       "      <td>3.259345e+09</td>\n",
       "    </tr>\n",
       "    <tr>\n",
       "      <th>50%</th>\n",
       "      <td>1990.000000</td>\n",
       "      <td>8.151479e+09</td>\n",
       "    </tr>\n",
       "    <tr>\n",
       "      <th>75%</th>\n",
       "      <td>2005.000000</td>\n",
       "      <td>1.873790e+10</td>\n",
       "    </tr>\n",
       "    <tr>\n",
       "      <th>max</th>\n",
       "      <td>2020.000000</td>\n",
       "      <td>9.884294e+10</td>\n",
       "    </tr>\n",
       "  </tbody>\n",
       "</table>\n",
       "</div>"
      ],
      "text/plain": [
       "              year           gdp\n",
       "count    61.000000  6.100000e+01\n",
       "mean   1990.000000  1.928737e+10\n",
       "std      17.752934  2.553702e+10\n",
       "min    1960.000000  7.912655e+08\n",
       "25%    1975.000000  3.259345e+09\n",
       "50%    1990.000000  8.151479e+09\n",
       "75%    2005.000000  1.873790e+10\n",
       "max    2020.000000  9.884294e+10"
      ]
     },
     "execution_count": 30,
     "metadata": {},
     "output_type": "execute_result"
    }
   ],
   "source": [
    "# summarize the data\n",
    "Kenya_gdp_data.describe()"
   ]
  },
  {
   "cell_type": "markdown",
   "id": "a9607b3c",
   "metadata": {},
   "source": [
    "Lets Visualize the year and gdp of Kenya in a histogram and view the data over time"
   ]
  },
  {
   "cell_type": "code",
   "execution_count": 31,
   "id": "e368d4d9",
   "metadata": {},
   "outputs": [
    {
     "data": {
      "image/png": "[encoded data removed]",
      "text/plain": [
       "<Figure size 640x480 with 2 Axes>"
      ]
     },
     "metadata": {},
     "output_type": "display_data"
    }
   ],
   "source": [
    "viz = cdf[['year','gdp']]\n",
    "viz.hist()\n",
    "plt.show()"
   ]
  },
  {
   "cell_type": "markdown",
   "id": "11f03afe",
   "metadata": {},
   "source": [
    "Now we have the necessary data for proper analysis and prediction"
   ]
  },
  {
   "cell_type": "markdown",
   "id": "1168a5be",
   "metadata": {},
   "source": [
    "Now to view Kenyas GDP From year 1960 to 2020 using barplot"
   ]
  },
  {
   "cell_type": "code",
   "execution_count": 32,
   "id": "a8752122",
   "metadata": {
    "scrolled": true
   },
   "outputs": [
    {
     "data": {
      "image/png": "[encoded data removed]",
      "text/plain": [
       "<Figure size 1500x700 with 1 Axes>"
      ]
     },
     "metadata": {},
     "output_type": "display_data"
    }
   ],
   "source": [
    "plt.figure(figsize = (15,7))\n",
    "color = ['green']\n",
    "\n",
    "sns.barplot(x = 'year',\n",
    "y = 'gdp',\n",
    "hue = 'country',\n",
    "data = Kenya_gdp_data, palette=color)\n",
    "plt.xticks(rotation = 90)\n",
    "plt.title(\"Kenya's GDP From year 1960 to 2020\")\n",
    "plt.show()"
   ]
  },
  {
   "cell_type": "markdown",
   "id": "bbb71e47",
   "metadata": {},
   "source": [
    "Now lets start prediction models"
   ]
  },
  {
   "cell_type": "markdown",
   "id": "3e94b963",
   "metadata": {},
   "source": [
    "Lets alocate variables data as follows"
   ]
  },
  {
   "cell_type": "code",
   "execution_count": 33,
   "id": "14c0c6a7",
   "metadata": {},
   "outputs": [],
   "source": [
    "xx = Kenya_gdp_data.drop(['gdp', 'country'], axis=1)\n",
    "yy = Kenya_gdp_data['gdp']"
   ]
  },
  {
   "cell_type": "markdown",
   "id": "da827796",
   "metadata": {},
   "source": [
    "Now lets create our linear Regression model"
   ]
  },
  {
   "cell_type": "code",
   "execution_count": 34,
   "id": "30c5d809",
   "metadata": {},
   "outputs": [
    {
     "data": {
      "text/html": [
       "<style>#sk-container-id-1 {color: black;background-color: white;}#sk-container-id-1 pre{padding: 0;}#sk-container-id-1 div.sk-toggleable {background-color: white;}#sk-container-id-1 label.sk-toggleable__label {cursor: pointer;display: block;width: 100%;margin-bottom: 0;padding: 0.3em;box-sizing: border-box;text-align: center;}#sk-container-id-1 label.sk-toggleable__label-arrow:before {content: \"▸\";float: left;margin-right: 0.25em;color: #696969;}#sk-container-id-1 label.sk-toggleable__label-arrow:hover:before {color: black;}#sk-container-id-1 div.sk-estimator:hover label.sk-toggleable__label-arrow:before {color: black;}#sk-container-id-1 div.sk-toggleable__content {max-height: 0;max-width: 0;overflow: hidden;text-align: left;background-color: #f0f8ff;}#sk-container-id-1 div.sk-toggleable__content pre {margin: 0.2em;color: black;border-radius: 0.25em;background-color: #f0f8ff;}#sk-container-id-1 input.sk-toggleable__control:checked~div.sk-toggleable__content {max-height: 200px;max-width: 100%;overflow: auto;}#sk-container-id-1 input.sk-toggleable__control:checked~label.sk-toggleable__label-arrow:before {content: \"▾\";}#sk-container-id-1 div.sk-estimator input.sk-toggleable__control:checked~label.sk-toggleable__label {background-color: #d4ebff;}#sk-container-id-1 div.sk-label input.sk-toggleable__control:checked~label.sk-toggleable__label {background-color: #d4ebff;}#sk-container-id-1 input.sk-hidden--visually {border: 0;clip: rect(1px 1px 1px 1px);clip: rect(1px, 1px, 1px, 1px);height: 1px;margin: -1px;overflow: hidden;padding: 0;position: absolute;width: 1px;}#sk-container-id-1 div.sk-estimator {font-family: monospace;background-color: #f0f8ff;border: 1px dotted black;border-radius: 0.25em;box-sizing: border-box;margin-bottom: 0.5em;}#sk-container-id-1 div.sk-estimator:hover {background-color: #d4ebff;}#sk-container-id-1 div.sk-parallel-item::after {content: \"\";width: 100%;border-bottom: 1px solid gray;flex-grow: 1;}#sk-container-id-1 div.sk-label:hover label.sk-toggleable__label {background-color: #d4ebff;}#sk-container-id-1 div.sk-serial::before {content: \"\";position: absolute;border-left: 1px solid gray;box-sizing: border-box;top: 0;bottom: 0;left: 50%;z-index: 0;}#sk-container-id-1 div.sk-serial {display: flex;flex-direction: column;align-items: center;background-color: white;padding-right: 0.2em;padding-left: 0.2em;position: relative;}#sk-container-id-1 div.sk-item {position: relative;z-index: 1;}#sk-container-id-1 div.sk-parallel {display: flex;align-items: stretch;justify-content: center;background-color: white;position: relative;}#sk-container-id-1 div.sk-item::before, #sk-container-id-1 div.sk-parallel-item::before {content: \"\";position: absolute;border-left: 1px solid gray;box-sizing: border-box;top: 0;bottom: 0;left: 50%;z-index: -1;}#sk-container-id-1 div.sk-parallel-item {display: flex;flex-direction: column;z-index: 1;position: relative;background-color: white;}#sk-container-id-1 div.sk-parallel-item:first-child::after {align-self: flex-end;width: 50%;}#sk-container-id-1 div.sk-parallel-item:last-child::after {align-self: flex-start;width: 50%;}#sk-container-id-1 div.sk-parallel-item:only-child::after {width: 0;}#sk-container-id-1 div.sk-dashed-wrapped {border: 1px dashed gray;margin: 0 0.4em 0.5em 0.4em;box-sizing: border-box;padding-bottom: 0.4em;background-color: white;}#sk-container-id-1 div.sk-label label {font-family: monospace;font-weight: bold;display: inline-block;line-height: 1.2em;}#sk-container-id-1 div.sk-label-container {text-align: center;}#sk-container-id-1 div.sk-container {/* jupyter's `normalize.less` sets `[hidden] { display: none; }` but bootstrap.min.css set `[hidden] { display: none !important; }` so we also need the `!important` here to be able to override the default hidden behavior on the sphinx rendered scikit-learn.org. See: https://github.com/scikit-learn/scikit-learn/issues/21755 */display: inline-block !important;position: relative;}#sk-container-id-1 div.sk-text-repr-fallback {display: none;}</style><div id=\"sk-container-id-1\" class=\"sk-top-container\"><div class=\"sk-text-repr-fallback\"><pre>LinearRegression()</pre><b>In a Jupyter environment, please rerun this cell to show the HTML representation or trust the notebook. <br />On GitHub, the HTML representation is unable to render, please try loading this page with nbviewer.org.</b></div><div class=\"sk-container\" hidden><div class=\"sk-item\"><div class=\"sk-estimator sk-toggleable\"><input class=\"sk-toggleable__control sk-hidden--visually\" id=\"sk-estimator-id-1\" type=\"checkbox\" checked><label for=\"sk-estimator-id-1\" class=\"sk-toggleable__label sk-toggleable__label-arrow\">LinearRegression</label><div class=\"sk-toggleable__content\"><pre>LinearRegression()</pre></div></div></div></div></div>"
      ],
      "text/plain": [
       "LinearRegression()"
      ]
     },
     "execution_count": 34,
     "metadata": {},
     "output_type": "execute_result"
    }
   ],
   "source": [
    "Kenya_gdp_model=LinearRegression()\n",
    "Kenya_gdp_model.fit(xx,yy)"
   ]
  },
  {
   "cell_type": "code",
   "execution_count": 35,
   "id": "ed842e97",
   "metadata": {},
   "outputs": [],
   "source": [
    "prediction = Kenya_gdp_model.predict(xx)"
   ]
  },
  {
   "cell_type": "code",
   "execution_count": 36,
   "id": "d8d0a269",
   "metadata": {},
   "outputs": [],
   "source": [
    "X_train, X_test, y_train, y_test = train_test_split(xx, yy, test_size = 0.2)"
   ]
  },
  {
   "cell_type": "markdown",
   "id": "dc5a6c8d",
   "metadata": {},
   "source": [
    "Lets Plot using a scatter plot to view Kenyan gdp per year against predicted values"
   ]
  },
  {
   "cell_type": "code",
   "execution_count": 41,
   "id": "4520e688",
   "metadata": {
    "scrolled": true
   },
   "outputs": [
    {
     "data": {
      "image/png": "[encoded data removed]",
      "text/plain": [
       "<Figure size 900x800 with 1 Axes>"
      ]
     },
     "metadata": {},
     "output_type": "display_data"
    }
   ],
   "source": [
    "plt.figure(figsize=(9,8))\n",
    "plt.scatter(xx,yy,label='Acutal value', color='green')\n",
    "plt.plot(xx,prediction,color='tab:red',label='Predicted value')\n",
    "plt.legend()\n",
    "plt.title(\"Kenya\",color='b')\n",
    "plt.xlabel(\"Years\",color='g')\n",
    "plt.ylabel(\"Kenyan gdp per year\",color='c')\n",
    "plt.tight_layout()\n",
    "plt.show()"
   ]
  },
  {
   "cell_type": "code",
   "execution_count": 43,
   "id": "fbf28a36",
   "metadata": {},
   "outputs": [
    {
     "name": "stdout",
     "output_type": "stream",
     "text": [
      "[5.54827292e+10]\n",
      "[5.66503214e+10]\n",
      "[5.78179136e+10]\n",
      "[5.89855058e+10]\n",
      "[6.0153098e+10]\n",
      "[6.13206902e+10]\n",
      "[6.24882824e+10]\n",
      "[6.36558747e+10]\n",
      "[6.48234669e+10]\n",
      "[6.59910591e+10]\n"
     ]
    },
    {
     "name": "stderr",
     "output_type": "stream",
     "text": [
      "D:\\georg\\Documents\\projects\\Kenya_GDP_Analysis_and_prediction\\env\\Lib\\site-packages\\sklearn\\base.py:450: UserWarning: X does not have valid feature names, but LinearRegression was fitted with feature names\n",
      "  warnings.warn(\n",
      "D:\\georg\\Documents\\projects\\Kenya_GDP_Analysis_and_prediction\\env\\Lib\\site-packages\\sklearn\\base.py:450: UserWarning: X does not have valid feature names, but LinearRegression was fitted with feature names\n",
      "  warnings.warn(\n",
      "D:\\georg\\Documents\\projects\\Kenya_GDP_Analysis_and_prediction\\env\\Lib\\site-packages\\sklearn\\base.py:450: UserWarning: X does not have valid feature names, but LinearRegression was fitted with feature names\n",
      "  warnings.warn(\n",
      "D:\\georg\\Documents\\projects\\Kenya_GDP_Analysis_and_prediction\\env\\Lib\\site-packages\\sklearn\\base.py:450: UserWarning: X does not have valid feature names, but LinearRegression was fitted with feature names\n",
      "  warnings.warn(\n",
      "D:\\georg\\Documents\\projects\\Kenya_GDP_Analysis_and_prediction\\env\\Lib\\site-packages\\sklearn\\base.py:450: UserWarning: X does not have valid feature names, but LinearRegression was fitted with feature names\n",
      "  warnings.warn(\n",
      "D:\\georg\\Documents\\projects\\Kenya_GDP_Analysis_and_prediction\\env\\Lib\\site-packages\\sklearn\\base.py:450: UserWarning: X does not have valid feature names, but LinearRegression was fitted with feature names\n",
      "  warnings.warn(\n",
      "D:\\georg\\Documents\\projects\\Kenya_GDP_Analysis_and_prediction\\env\\Lib\\site-packages\\sklearn\\base.py:450: UserWarning: X does not have valid feature names, but LinearRegression was fitted with feature names\n",
      "  warnings.warn(\n",
      "D:\\georg\\Documents\\projects\\Kenya_GDP_Analysis_and_prediction\\env\\Lib\\site-packages\\sklearn\\base.py:450: UserWarning: X does not have valid feature names, but LinearRegression was fitted with feature names\n",
      "  warnings.warn(\n",
      "D:\\georg\\Documents\\projects\\Kenya_GDP_Analysis_and_prediction\\env\\Lib\\site-packages\\sklearn\\base.py:450: UserWarning: X does not have valid feature names, but LinearRegression was fitted with feature names\n",
      "  warnings.warn(\n",
      "D:\\georg\\Documents\\projects\\Kenya_GDP_Analysis_and_prediction\\env\\Lib\\site-packages\\sklearn\\base.py:450: UserWarning: X does not have valid feature names, but LinearRegression was fitted with feature names\n",
      "  warnings.warn(\n"
     ]
    }
   ],
   "source": [
    "years=[2021,2022,2023,2024,2025,2026,2027,2028,2029,2030]\n",
    "for i in years:\n",
    "    print(Kenya_gdp_model.predict([[i]]))"
   ]
  },
  {
   "cell_type": "markdown",
   "id": "20f5216c",
   "metadata": {},
   "source": [
    "# Full Figures of the prediction results Above"
   ]
  },
  {
   "cell_type": "raw",
   "id": "7b0d298a",
   "metadata": {},
   "source": [
    "YEAR   GDP VALUES PREDICTED\n",
    "____   _________________\n",
    "\n",
    "2021 - 55,482,729,200\n",
    "2022 - 56,650,321,400\n",
    "2023 - 57,817,913,600\n",
    "2024 - 58,985,505,800\n",
    "2025 - 60,153,098,000\n",
    "2026 - 61,320,690,200\n",
    "2027 - 62,488,282,400\n",
    "2028 - 63,655,874,700\n",
    "2029 - 64,823,466,900\n",
    "2030 - 65,991,059,100"
   ]
  }
 ],
 "metadata": {
  "kernelspec": {
   "display_name": "Python 3 (ipykernel)",
   "language": "python",
   "name": "python3"
  },
  "language_info": {
   "codemirror_mode": {
    "name": "ipython",
    "version": 3
   },
   "file_extension": ".py",
   "mimetype": "text/x-python",
   "name": "python",
   "nbconvert_exporter": "python",
   "pygments_lexer": "ipython3",
   "version": "3.11.0"
  }
 },
 "nbformat": 4,
 "nbformat_minor": 5
}
